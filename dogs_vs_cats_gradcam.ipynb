{
  "nbformat": 4,
  "nbformat_minor": 0,
  "metadata": {
    "colab": {
      "name": "dogs-vs-cats-gradcam",
      "provenance": [],
      "collapsed_sections": [],
      "authorship_tag": "ABX9TyP+zb2KjnZFgCaVse69qppO",
      "include_colab_link": true
    },
    "kernelspec": {
      "name": "python3",
      "display_name": "Python 3"
    },
    "accelerator": "GPU"
  },
  "cells": [
    {
      "cell_type": "markdown",
      "metadata": {
        "id": "view-in-github",
        "colab_type": "text"
      },
      "source": [
        "<a href=\"https://colab.research.google.com/github/v1an1/gradcamplusplus-cats-v-dogs/blob/master/dogs_vs_cats_gradcam.ipynb\" target=\"_parent\"><img src=\"https://colab.research.google.com/assets/colab-badge.svg\" alt=\"Open In Colab\"/></a>"
      ]
    },
    {
      "cell_type": "code",
      "metadata": {
        "id": "iPHDrd7rJkR8",
        "colab_type": "code",
        "colab": {}
      },
      "source": [
        "from google.colab import drive\n",
        "drive.mount('/content/drive')"
      ],
      "execution_count": 0,
      "outputs": []
    },
    {
      "cell_type": "code",
      "metadata": {
        "id": "sK9a7D6EJ4Af",
        "colab_type": "code",
        "colab": {}
      },
      "source": [
        "# Replace it with the path of cats-v-dogs and test zipfiles\n",
        "\n",
        "!unzip '/content/drive/My Drive/cats-vs-dogs/cats-v-dogs.zip'"
      ],
      "execution_count": 0,
      "outputs": []
    },
    {
      "cell_type": "code",
      "metadata": {
        "id": "JgBhQr2Pwvto",
        "colab_type": "code",
        "colab": {}
      },
      "source": [
        "# Load the TensorBoard notebook extension\n",
        "%load_ext tensorboard"
      ],
      "execution_count": 0,
      "outputs": []
    },
    {
      "cell_type": "code",
      "metadata": {
        "id": "EzHzd_NOwzI4",
        "colab_type": "code",
        "colab": {}
      },
      "source": [
        "# Clear any logs from previous runs\n",
        "!rm -rf ./logs/ "
      ],
      "execution_count": 0,
      "outputs": []
    },
    {
      "cell_type": "code",
      "metadata": {
        "id": "4EnSqP8i5d9v",
        "colab_type": "code",
        "colab": {}
      },
      "source": [
        "pip install -q pyyaml h5py  # Required to save models in HDF5 format"
      ],
      "execution_count": 0,
      "outputs": []
    },
    {
      "cell_type": "code",
      "metadata": {
        "id": "JC5Oa3LVLd7T",
        "colab_type": "code",
        "colab": {}
      },
      "source": [
        "import tensorflow as tf\n",
        "from tensorflow.keras.optimizers import RMSprop, SGD\n",
        "from tensorflow.keras.preprocessing.image import ImageDataGenerator\n",
        "from tensorflow.keras import layers\n",
        "from tensorflow.keras import Model\n",
        "from tensorflow.keras.applications.inception_v3 import InceptionV3\n",
        "from tensorflow.keras.preprocessing.image import img_to_array\n",
        "from tensorflow.keras.preprocessing.image import load_img\n",
        "from keras.layers import Dense, GlobalAveragePooling2D\n",
        "from tensorflow.keras.callbacks import EarlyStopping,ModelCheckpoint,TensorBoard,ReduceLROnPlateau\n",
        "import datetime\n",
        "import numpy as np\n",
        "import pandas as pd\n",
        "import os"
      ],
      "execution_count": 0,
      "outputs": []
    },
    {
      "cell_type": "code",
      "metadata": {
        "id": "iMpsysFrKrxQ",
        "colab_type": "code",
        "outputId": "a8ba3c5c-6443-4bd7-ee2f-a3c0a4a4545b",
        "colab": {
          "base_uri": "https://localhost:8080/",
          "height": 51
        }
      },
      "source": [
        "TRAINING_DIR = \"/content/cats-v-dogs/train/\"\n",
        "train_datagen = ImageDataGenerator(\n",
        "      rescale=1./255,\n",
        "      rotation_range=40,\n",
        "      width_shift_range=0.2,\n",
        "      height_shift_range=0.2,\n",
        "      shear_range=0.2,\n",
        "      zoom_range=0.2,\n",
        "      horizontal_flip=True,\n",
        "      fill_mode='nearest')\n",
        "\n",
        "# TRAIN GENERATOR.\n",
        "train_generator = train_datagen.flow_from_directory(\n",
        "        TRAINING_DIR,  \n",
        "        target_size=(150, 150),\n",
        "        batch_size=100,\n",
        "        class_mode='binary')\n",
        "\n",
        "VALIDATION_DIR = \"/content/cats-v-dogs/validation/\"\n",
        "validation_datagen = ImageDataGenerator(rescale=1./255)\n",
        "\n",
        "# VALIDATION GENERATOR.\n",
        "validation_generator = validation_datagen.flow_from_directory(\n",
        "        VALIDATION_DIR,\n",
        "        target_size=(150, 150),\n",
        "        batch_size=10,\n",
        "        class_mode='binary')"
      ],
      "execution_count": 6,
      "outputs": [
        {
          "output_type": "stream",
          "text": [
            "Found 22500 images belonging to 2 classes.\n",
            "Found 2500 images belonging to 2 classes.\n"
          ],
          "name": "stdout"
        }
      ]
    },
    {
      "cell_type": "code",
      "metadata": {
        "id": "aLMiTabGLncV",
        "colab_type": "code",
        "colab": {}
      },
      "source": [
        "# model = tf.keras.models.Sequential([\n",
        "#     tf.keras.layers.Conv2D(32, (3,3), activation='relu', input_shape=(150, 150, 3)),\n",
        "#     tf.keras.layers.MaxPooling2D(2, 2),\n",
        "#     tf.keras.layers.Conv2D(64, (3,3), activation='relu'),\n",
        "#     tf.keras.layers.MaxPooling2D(2,2),\n",
        "#     tf.keras.layers.Conv2D(128, (3,3), activation='relu'),\n",
        "#     tf.keras.layers.MaxPooling2D(2,2),\n",
        "#     tf.keras.layers.Conv2D(128, (3,3), activation='relu'),\n",
        "#     tf.keras.layers.MaxPooling2D(2,2),\n",
        "#     tf.keras.layers.Flatten(),\n",
        "#     tf.keras.layers.Dense(512, activation='relu'),\n",
        "#     tf.keras.layers.Dense(1, activation='sigmoid')\n",
        "# ])\n",
        "\n",
        "# model.compile(optimizer=RMSprop(lr=0.001), loss='binary_crossentropy', metrics=['acc'])"
      ],
      "execution_count": 0,
      "outputs": []
    },
    {
      "cell_type": "code",
      "metadata": {
        "id": "w7Jligemc6JB",
        "colab_type": "code",
        "colab": {}
      },
      "source": [
        "log_dir = \"/content/logs/fit/\" + datetime.datetime.now().strftime(\"%Y%m%d-%H%M%S\")\n",
        "checkpoint_path = \"/content/checkpoint/\"\n",
        "#Prepare call backs\n",
        "cp_callback = ModelCheckpoint(filepath=checkpoint_path, save_weights_only=True, verbose=1)\n",
        "LR_callback = ReduceLROnPlateau(monitor='val_accuracy', patience=3, verbose=2, factor=.5, min_lr=.00001)\n",
        "EarlyStop_callback = EarlyStopping(monitor='val_accuracy', patience=7, restore_best_weights=True)\n",
        "tensorboard_callback = TensorBoard(log_dir=log_dir, histogram_freq=1)\n",
        "\n",
        "my_callback=[EarlyStop_callback, LR_callback, tensorboard_callback, cp_callback]"
      ],
      "execution_count": 0,
      "outputs": []
    },
    {
      "cell_type": "code",
      "metadata": {
        "id": "MqwN6jYVTRcc",
        "colab_type": "code",
        "colab": {}
      },
      "source": [
        "pre_trained_model = InceptionV3(input_shape=(150,150,3),include_top=False,weights='imagenet')\n",
        "\n",
        "for layer in pre_trained_model.layers:\n",
        "    layer.trainable = False\n",
        "  \n",
        "# Print the model summary\n",
        "pre_trained_model.summary()"
      ],
      "execution_count": 0,
      "outputs": []
    },
    {
      "cell_type": "code",
      "metadata": {
        "id": "PmT0_ZClTs_s",
        "colab_type": "code",
        "outputId": "db4b4b64-23e2-4261-f0e5-cbb8d718d52e",
        "colab": {
          "base_uri": "https://localhost:8080/",
          "height": 34
        }
      },
      "source": [
        "last_layer = pre_trained_model.get_layer('mixed7')\n",
        "print('last layer output shape: ', last_layer.output_shape)\n",
        "last_output = last_layer.output"
      ],
      "execution_count": 9,
      "outputs": [
        {
          "output_type": "stream",
          "text": [
            "last layer output shape:  (None, 7, 7, 768)\n"
          ],
          "name": "stdout"
        }
      ]
    },
    {
      "cell_type": "code",
      "metadata": {
        "id": "ANUQjoNtT3vM",
        "colab_type": "code",
        "colab": {}
      },
      "source": [
        "# Flatten the output layer to 1 dimension\n",
        "x = layers.Flatten()(pre_trained_model.output)\n",
        "# Add a fully connected layer with 1,024 hidden units and ReLU activation\n",
        "x = layers.Dense(1024, activation='relu')(x)\n",
        "# Add a dropout rate of 0.2\n",
        "x = layers.Dropout(0.2)(x)                  \n",
        "# Add a final sigmoid layer for classification\n",
        "x = layers.Dense(1,activation='sigmoid')(x)           \n",
        "\n",
        "model = Model(pre_trained_model.input, x) \n",
        "\n",
        "model.compile(optimizer = RMSprop(lr=0.0001), \n",
        "              loss = 'binary_crossentropy', \n",
        "              metrics = ['accuracy'])\n",
        "\n",
        "model.summary()"
      ],
      "execution_count": 0,
      "outputs": []
    },
    {
      "cell_type": "code",
      "metadata": {
        "id": "lrfB4b-dcmeD",
        "colab_type": "code",
        "colab": {}
      },
      "source": [
        "# # Another alternative to try out (gives better result)\n",
        "\n",
        "# layer_to_Freeze=276    \n",
        "# for layer in model.layers[:layer_to_Freeze]:\n",
        "#     layer.trainable =False\n",
        "# for layer in model.layers[layer_to_Freeze:]:\n",
        "#     layer.trainable=True\n",
        "\n",
        "# sgd = SGD(lr = 0.01, decay = 1e-6, momentum = 0.9, nesterov = True)\n",
        "# model.compile(optimizer=sgd,loss='binary_crossentropy',metrics=['accuracy'])"
      ],
      "execution_count": 0,
      "outputs": []
    },
    {
      "cell_type": "code",
      "metadata": {
        "id": "_UvRPfWIxjGb",
        "colab_type": "code",
        "colab": {}
      },
      "source": [
        "%tensorboard --logdir logs/fit"
      ],
      "execution_count": 0,
      "outputs": []
    },
    {
      "cell_type": "code",
      "metadata": {
        "id": "zOp1FB9VLxIW",
        "colab_type": "code",
        "colab": {}
      },
      "source": [
        "history = model.fit(train_generator,\n",
        "                    epochs=30,\n",
        "                    steps_per_epoch=225,\n",
        "                    validation_data=validation_generator,\n",
        "                    validation_steps=250,\n",
        "                    verbose=2,\n",
        "                    callbacks=my_callback)"
      ],
      "execution_count": 0,
      "outputs": []
    },
    {
      "cell_type": "code",
      "metadata": {
        "id": "WQkjTmk8z4Qu",
        "colab_type": "code",
        "colab": {}
      },
      "source": [
        "model.save('my_model.h5')"
      ],
      "execution_count": 0,
      "outputs": []
    },
    {
      "cell_type": "code",
      "metadata": {
        "id": "QOUQ9wkTYH6I",
        "colab_type": "code",
        "outputId": "06690dcb-7361-4bf5-9fc6-3c54356e6e8b",
        "colab": {
          "base_uri": "https://localhost:8080/",
          "height": 298
        }
      },
      "source": [
        "import matplotlib.pyplot as plt\n",
        "acc = history.history['accuracy']\n",
        "val_acc = history.history['val_accuracy']\n",
        "loss = history.history['loss']\n",
        "val_loss = history.history['val_loss']\n",
        "\n",
        "epochs = range(len(acc))\n",
        "\n",
        "plt.plot(epochs, acc, 'r', label='Training accuracy')\n",
        "plt.plot(epochs, val_acc, 'b', label='Validation accuracy')\n",
        "plt.title('Training and validation accuracy')\n",
        "plt.legend(loc=0)\n",
        "plt.figure()\n",
        "\n",
        "\n",
        "plt.show()"
      ],
      "execution_count": 15,
      "outputs": [
        {
          "output_type": "display_data",
          "data": {
            "image/png": "[encoded data removed]",
            "text/plain": [
              "<Figure size 432x288 with 1 Axes>"
            ]
          },
          "metadata": {
            "tags": [],
            "needs_background": "light"
          }
        },
        {
          "output_type": "display_data",
          "data": {
            "text/plain": [
              "<Figure size 432x288 with 0 Axes>"
            ]
          },
          "metadata": {
            "tags": []
          }
        }
      ]
    },
    {
      "cell_type": "code",
      "metadata": {
        "id": "My6um_TTnFEZ",
        "colab_type": "code",
        "outputId": "69882bad-7586-447e-a768-c49e550a91ca",
        "colab": {
          "base_uri": "https://localhost:8080/",
          "height": 34
        }
      },
      "source": [
        "TEST_DIR = \"/content/cats-v-dogs/testing/\"\n",
        "test_datagen = ImageDataGenerator(rescale=1./255)\n",
        "test_generator = test_datagen.flow_from_directory(\n",
        "    directory=TEST_DIR,\n",
        "    target_size=(150, 150),\n",
        "    color_mode=\"rgb\",\n",
        "    batch_size=20,\n",
        "    class_mode=None,\n",
        "    shuffle=False\n",
        ")"
      ],
      "execution_count": 0,
      "outputs": [
        {
          "output_type": "stream",
          "text": [
            "Found 12500 images belonging to 1 classes.\n"
          ],
          "name": "stdout"
        }
      ]
    },
    {
      "cell_type": "code",
      "metadata": {
        "id": "oLWXHep6oOIq",
        "colab_type": "code",
        "colab": {}
      },
      "source": [
        "# Run only if previous instance of it is called otherwise neglect\n",
        "# test_generator.reset()"
      ],
      "execution_count": 0,
      "outputs": []
    },
    {
      "cell_type": "code",
      "metadata": {
        "id": "iv7ajQEgoXUN",
        "colab_type": "code",
        "outputId": "cddd11d5-adbd-4b5f-af4a-b18ca49f98b4",
        "colab": {
          "base_uri": "https://localhost:8080/",
          "height": 34
        }
      },
      "source": [
        "pred=model.predict(test_generator,verbose=1)"
      ],
      "execution_count": 0,
      "outputs": [
        {
          "output_type": "stream",
          "text": [
            "391/391 [==============================] - 38s 97ms/step\n"
          ],
          "name": "stdout"
        }
      ]
    },
    {
      "cell_type": "code",
      "metadata": {
        "id": "mi6RNL0x6EtM",
        "colab_type": "code",
        "outputId": "af43a79a-a42d-46f7-a317-b64b054997b3",
        "colab": {
          "base_uri": "https://localhost:8080/",
          "height": 34
        }
      },
      "source": [
        "train_generator.class_indices"
      ],
      "execution_count": 0,
      "outputs": [
        {
          "output_type": "execute_result",
          "data": {
            "text/plain": [
              "{'cats': 0, 'dogs': 1}"
            ]
          },
          "metadata": {
            "tags": []
          },
          "execution_count": 16
        }
      ]
    },
    {
      "cell_type": "code",
      "metadata": {
        "id": "vUR_2lSvotdI",
        "colab_type": "code",
        "colab": {}
      },
      "source": [
        "cl=np.round(pred)\n",
        "cl=np.squeeze(cl, axis=1)\n",
        "labels = (train_generator.class_indices)\n",
        "labels = dict((v,k) for k,v in labels.items())\n",
        "predictions = [labels[k] for k in cl]"
      ],
      "execution_count": 0,
      "outputs": []
    },
    {
      "cell_type": "code",
      "metadata": {
        "id": "eIRrCEVjo6Dl",
        "colab_type": "code",
        "colab": {}
      },
      "source": [
        "filenames=test_generator.filenames\n",
        "results=pd.DataFrame({\"Filename\":filenames,\n",
        "                      \"Predictions\":predictions})"
      ],
      "execution_count": 0,
      "outputs": []
    },
    {
      "cell_type": "code",
      "metadata": {
        "id": "mL9qbTDB442c",
        "colab_type": "code",
        "colab": {}
      },
      "source": [
        "# For generating csv in terms of prediction\n",
        "counter = range(1, len(filenames) + 1)\n",
        "solution = pd.DataFrame({\"id\": counter, \"label\":list(pred)})\n",
        "cols = ['label']\n",
        "\n",
        "for col in cols:\n",
        "    solution[col] = solution[col].map(lambda x: str(x).lstrip('[').rstrip(']')).astype(float)\n",
        "\n",
        "solution.to_csv(\"dogsVScats.csv\", index = False)"
      ],
      "execution_count": 0,
      "outputs": []
    },
    {
      "cell_type": "code",
      "metadata": {
        "id": "yu703gju2VcV",
        "colab_type": "code",
        "colab": {}
      },
      "source": [
        "# GradCam & GradCam++\n",
        "\n",
        "from scipy.ndimage.interpolation import zoom\n",
        "import numpy as np\n",
        "\n",
        "from keras.backend import tensorflow_backend\n",
        "from keras import backend as K\n",
        "from keras.preprocessing.image import load_img, img_to_array\n",
        "\n",
        "import matplotlib.pyplot as plt\n",
        "\n",
        "def normalize(x):\n",
        "    \"\"\"Utility function to normalize a tensor by its L2 norm\"\"\"\n",
        "    return (x + 1e-10) / (K.sqrt(K.mean(K.square(x))) + 1e-10)\n",
        "\n",
        "def add_eps(x):\n",
        "    \"\"\"Utility function to normalize a tensor by its L2 norm\"\"\"\n",
        "    return (x + 1e-10)\n",
        "\n",
        "def grad_cam(input_model, image, layer_name,H=150,W=150):\n",
        "    cls = np.argmax(input_model.predict(image))\n",
        "    \"\"\"GradCAM method for visualizing input saliency.\"\"\"\n",
        "    y_c = input_model.output[0, cls]\n",
        "    conv_output = input_model.get_layer(layer_name).output\n",
        "    grads = K.gradients(y_c, conv_output)[0]\n",
        "    grads = add_eps(grads)\n",
        "    gradient_function = K.function([input_model.input], [conv_output, grads])\n",
        "\n",
        "    output, grads_val = gradient_function([image])\n",
        "    output, grads_val = output[0, :], grads_val[0, :, :, :]\n",
        "\n",
        "    weights = np.mean(grads_val, axis=(0, 1))\n",
        "    cam = np.dot(output, weights)\n",
        "    #print (cam)\n",
        "\n",
        "    cam = np.maximum(cam, 0)\n",
        "    #cam = resize(cam, (H, W))\n",
        "    cam = zoom(cam,H/cam.shape[0])\n",
        "    #cam = np.maximum(cam, 0)\n",
        "    cam = cam / cam.max()\n",
        "    return cam\n",
        "\n",
        "def grad_cam_plus(input_model, img, layer_name,H=150,W=150):\n",
        "    cls = np.argmax(input_model.predict(img))\n",
        "    y_c = input_model.output[0, cls]\n",
        "    #cost = 全部のラベルの値。cost*label_indexでy_cになる\n",
        "    conv_output = input_model.get_layer(layer_name).output\n",
        "    #conv_output = target_conv_layer, mixed10の出力1,5,5,2048\n",
        "    grads = K.gradients(y_c, conv_output)[0]\n",
        "    grads = add_eps(grads)\n",
        "\n",
        "    first = K.exp(y_c)*grads\n",
        "    second = K.exp(y_c)*grads*grads\n",
        "    third = K.exp(y_c)*grads*grads*grads\n",
        "    \n",
        "    gradient_function = K.function([input_model.input], [y_c,first,second,third, conv_output, grads])\n",
        "    y_c, conv_first_grad, conv_second_grad,conv_third_grad, conv_output, grads_val = gradient_function([img])\n",
        "    global_sum = np.sum(conv_output[0].reshape((-1,conv_first_grad[0].shape[2])), axis=0)\n",
        "\n",
        "    alpha_num = conv_second_grad[0]\n",
        "    alpha_denom = conv_second_grad[0]*2.0 + conv_third_grad[0]*global_sum.reshape((1,1,conv_first_grad[0].shape[2]))\n",
        "    alpha_denom = np.where(alpha_denom != 0.0, alpha_denom, np.ones(alpha_denom.shape))\n",
        "    alphas = alpha_num/alpha_denom\n",
        "\n",
        "    weights = np.maximum(conv_first_grad[0], 0.0)\n",
        "\n",
        "    alpha_normalization_constant = np.sum(np.sum(alphas, axis=0),axis=0)\n",
        "\n",
        "    alphas /= alpha_normalization_constant.reshape((1,1,conv_first_grad[0].shape[2]))\n",
        "\n",
        "    deep_linearization_weights = np.sum((weights*alphas).reshape((-1,conv_first_grad[0].shape[2])),axis=0)\n",
        "    #print deep_linearization_weights\n",
        "    grad_CAM_map = np.sum(deep_linearization_weights*conv_output[0], axis=2)\n",
        "\n",
        "    # Passing through ReLU\n",
        "    cam = np.maximum(grad_CAM_map, 0)\n",
        "    cam = zoom(cam,H/cam.shape[0])\n",
        "    cam = cam / np.max(cam) # scale 0 to 1.0    \n",
        "    # cam = resize(cam, (150,150))\n",
        "\n",
        "    return cam"
      ],
      "execution_count": 0,
      "outputs": []
    },
    {
      "cell_type": "code",
      "metadata": {
        "id": "eBxD6GTt5-Rg",
        "colab_type": "code",
        "colab": {}
      },
      "source": [
        "model = tf.keras.models.load_model('my_model.h5')"
      ],
      "execution_count": 0,
      "outputs": []
    },
    {
      "cell_type": "code",
      "metadata": {
        "id": "8oGo7MCK2bKa",
        "colab_type": "code",
        "outputId": "74fcf47a-64f0-4797-988d-9124b1cd450b",
        "colab": {
          "base_uri": "https://localhost:8080/",
          "height": 213
        }
      },
      "source": [
        "path = \"/content/cats-v-dogs/testing/\"\n",
        "img = \"test/55.jpg\"\n",
        "image_path = os.path.join(path, img)\n",
        "orig_image = load_img(image_path, target_size=(150, 150))\n",
        "image = img_to_array(orig_image)\n",
        "image = np.expand_dims(image, axis=0)\n",
        "image = image/255.0\n",
        "\n",
        "gradcam=grad_cam(model,image,layer_name='mixed7')\n",
        "gradcamplus=grad_cam_plus(model,image,layer_name='mixed7')\n",
        "\n",
        "print(\"IMG : \", img)\n",
        "prob = model.predict(image)\n",
        "pred_label = np.round(prob[0][0]).astype(int)\n",
        "if pred_label == 0:\n",
        "  prob[0][0] = 1-prob[0][0]\n",
        "\n",
        "labels = {'cats': 0, 'dogs': 1}\n",
        "labels = dict((v,k) for k,v in labels.items())\n",
        "print(\"class activation map for:\",labels[pred_label])\n",
        "print(\"Probability : \", prob[0][0])\n",
        "\n",
        "fig, ax = plt.subplots(nrows=1,ncols=3)\n",
        "plt.subplot(131)\n",
        "plt.imshow(orig_image)\n",
        "plt.title(\"input image\")\n",
        "plt.subplot(132)\n",
        "plt.imshow(orig_image)\n",
        "plt.imshow(gradcam,alpha=0.8,cmap=\"jet\")\n",
        "plt.title(\"Grad-CAM\")\n",
        "plt.subplot(133)\n",
        "plt.imshow(orig_image)\n",
        "plt.imshow(gradcamplus,alpha=0.8,cmap=\"jet\")\n",
        "plt.title(\"Grad-CAM++\")\n",
        "plt.show()"
      ],
      "execution_count": 0,
      "outputs": [
        {
          "output_type": "stream",
          "text": [
            "IMG :  test/55.jpg\n",
            "class activation map for: cats\n",
            "Probability :  0.9999814\n"
          ],
          "name": "stdout"
        },
        {
          "output_type": "display_data",
          "data": {
            "image/png": "[encoded data removed]",
            "text/plain": [
              "<Figure size 432x288 with 3 Axes>"
            ]
          },
          "metadata": {
            "tags": [],
            "needs_background": "light"
          }
        }
      ]
    }
  ]
}